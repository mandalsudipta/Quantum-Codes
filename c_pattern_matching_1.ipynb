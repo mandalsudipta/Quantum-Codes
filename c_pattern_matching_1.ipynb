{
 "cells": [
  {
   "cell_type": "code",
   "execution_count": 13,
   "id": "88084ead",
   "metadata": {},
   "outputs": [
    {
     "data": {
      "text/html": [
       "<pre style=\"word-wrap: normal;white-space: pre;background: #fff0;line-height: 1.1;font-family: &quot;Courier New&quot;,Courier,monospace\">         ┌─────────────────┐    \n",
       "q_0: ────┤ Initialize(1,0) ├────\n",
       "         ├─────────────────┤    \n",
       "q_1: ────┤ Initialize(0,1) ├────\n",
       "     ┌───┴─────────────────┴───┐\n",
       "q_2: ┤0                        ├\n",
       "     │  State Preparation(1,0) │\n",
       "q_3: ┤1                        ├\n",
       "     └───┬─────────────────┬───┘\n",
       "q_4: ────┤ Initialize(0,1) ├────\n",
       "     ┌───┴─────────────────┴───┐\n",
       "q_5: ┤0                        ├\n",
       "     │  State Preparation(1,1) │\n",
       "q_6: ┤1                        ├\n",
       "     └───┬─────────────────┬───┘\n",
       "q_7: ────┤ Initialize(1,0) ├────\n",
       "         └─────────────────┘    \n",
       "c: 3/═══════════════════════════\n",
       "                                </pre>"
      ],
      "text/plain": [
       "         ┌─────────────────┐    \n",
       "q_0: ────┤ Initialize(1,0) ├────\n",
       "         ├─────────────────┤    \n",
       "q_1: ────┤ Initialize(0,1) ├────\n",
       "     ┌───┴─────────────────┴───┐\n",
       "q_2: ┤0                        ├\n",
       "     │  State Preparation(1,0) │\n",
       "q_3: ┤1                        ├\n",
       "     └───┬─────────────────┬───┘\n",
       "q_4: ────┤ Initialize(0,1) ├────\n",
       "     ┌───┴─────────────────┴───┐\n",
       "q_5: ┤0                        ├\n",
       "     │  State Preparation(1,1) │\n",
       "q_6: ┤1                        ├\n",
       "     └───┬─────────────────┬───┘\n",
       "q_7: ────┤ Initialize(1,0) ├────\n",
       "         └─────────────────┘    \n",
       "c: 3/═══════════════════════════\n",
       "                                "
      ]
     },
     "execution_count": 13,
     "metadata": {},
     "output_type": "execute_result"
    }
   ],
   "source": [
    "# Importing required libraries\n",
    "from qiskit import QuantumCircuit\n",
    "from qiskit.circuit.library import StatePreparation\n",
    "\n",
    "# DNA sequence to be encoded\n",
    "dna_sequence = 'ACGTGCTA'\n",
    "\n",
    "# Encoding the DNA sequence into quantum states\n",
    "qc = QuantumCircuit(8, 3)\n",
    "qc.initialize([1, 0], 0)  # |0⟩ for A\n",
    "qc.initialize([0, 1], 1)  # |1⟩ for C\n",
    "qc.append(StatePreparation('10'), [2, 3])  # |2⟩ for G\n",
    "qc.initialize([0, 1], 4)  # |1⟩ for C\n",
    "qc.append(StatePreparation('11'), [5, 6])  # |3⟩ for T\n",
    "qc.initialize([1, 0], 7)  # |0⟩ for A\n",
    "\n",
    "# Displaying the quantum circuit\n",
    "qc.draw()\n",
    "\n",
    "\n"
   ]
  },
  {
   "cell_type": "code",
   "execution_count": 14,
   "id": "3681dfad",
   "metadata": {},
   "outputs": [
    {
     "data": {
      "text/html": [
       "<pre style=\"word-wrap: normal;white-space: pre;background: #fff0;line-height: 1.1;font-family: &quot;Courier New&quot;,Courier,monospace\">         ┌─────────────────┐    ┌───┐┌───┐                    ┌───┐┌───┐     \n",
       "q_0: ────┤ Initialize(1,0) ├────┤ H ├┤ X ├─────────────────■──┤ X ├┤ H ├─────\n",
       "         ├─────────────────┤    ├───┤├───┤┌───┐┌───┐       │  ├───┤├───┤     \n",
       "q_1: ────┤ Initialize(0,1) ├────┤ X ├┤ X ├┤ H ├┤ X ├───────■──┤ X ├┤ H ├─────\n",
       "     ┌───┴─────────────────┴───┐├───┤├───┤└───┘└───┘       │  ├───┤├───┤     \n",
       "q_2: ┤0                        ├┤ H ├┤ X ├─────────────────■──┤ X ├┤ H ├─────\n",
       "     │  State Preparation(1,0) │├───┤├───┤┌───┐┌───┐┌───┐  │  ├───┤├───┤     \n",
       "q_3: ┤1                        ├┤ X ├┤ Z ├┤ X ├┤ H ├┤ X ├──■──┤ X ├┤ H ├─────\n",
       "     └───┬─────────────────┬───┘├───┤├───┤└───┘└───┘└───┘  │  ├───┤├───┤     \n",
       "q_4: ────┤ Initialize(0,1) ├────┤ H ├┤ X ├─────────────────■──┤ X ├┤ H ├─────\n",
       "     ┌───┴─────────────────┴───┐├───┤├───┤                 │  ├───┤├───┤     \n",
       "q_5: ┤0                        ├┤ H ├┤ X ├─────────────────■──┤ X ├┤ H ├─────\n",
       "     │  State Preparation(1,1) │├───┤├───┤                 │  ├───┤├───┤     \n",
       "q_6: ┤1                        ├┤ H ├┤ X ├─────────────────■──┤ X ├┤ H ├─────\n",
       "     └───┬─────────────────┬───┘├───┤├───┤┌───┐          ┌─┴─┐├───┤├───┤┌───┐\n",
       "q_7: ────┤ Initialize(1,0) ├────┤ H ├┤ X ├┤ H ├──────────┤ X ├┤ H ├┤ X ├┤ H ├\n",
       "         └─────────────────┘    └───┘└───┘└───┘          └───┘└───┘└───┘└───┘\n",
       "c: 3/════════════════════════════════════════════════════════════════════════\n",
       "                                                                             </pre>"
      ],
      "text/plain": [
       "         ┌─────────────────┐    ┌───┐┌───┐                    ┌───┐┌───┐     \n",
       "q_0: ────┤ Initialize(1,0) ├────┤ H ├┤ X ├─────────────────■──┤ X ├┤ H ├─────\n",
       "         ├─────────────────┤    ├───┤├───┤┌───┐┌───┐       │  ├───┤├───┤     \n",
       "q_1: ────┤ Initialize(0,1) ├────┤ X ├┤ X ├┤ H ├┤ X ├───────■──┤ X ├┤ H ├─────\n",
       "     ┌───┴─────────────────┴───┐├───┤├───┤└───┘└───┘       │  ├───┤├───┤     \n",
       "q_2: ┤0                        ├┤ H ├┤ X ├─────────────────■──┤ X ├┤ H ├─────\n",
       "     │  State Preparation(1,0) │├───┤├───┤┌───┐┌───┐┌───┐  │  ├───┤├───┤     \n",
       "q_3: ┤1                        ├┤ X ├┤ Z ├┤ X ├┤ H ├┤ X ├──■──┤ X ├┤ H ├─────\n",
       "     └───┬─────────────────┬───┘├───┤├───┤└───┘└───┘└───┘  │  ├───┤├───┤     \n",
       "q_4: ────┤ Initialize(0,1) ├────┤ H ├┤ X ├─────────────────■──┤ X ├┤ H ├─────\n",
       "     ┌───┴─────────────────┴───┐├───┤├───┤                 │  ├───┤├───┤     \n",
       "q_5: ┤0                        ├┤ H ├┤ X ├─────────────────■──┤ X ├┤ H ├─────\n",
       "     │  State Preparation(1,1) │├───┤├───┤                 │  ├───┤├───┤     \n",
       "q_6: ┤1                        ├┤ H ├┤ X ├─────────────────■──┤ X ├┤ H ├─────\n",
       "     └───┬─────────────────┬───┘├───┤├───┤┌───┐          ┌─┴─┐├───┤├───┤┌───┐\n",
       "q_7: ────┤ Initialize(1,0) ├────┤ H ├┤ X ├┤ H ├──────────┤ X ├┤ H ├┤ X ├┤ H ├\n",
       "         └─────────────────┘    └───┘└───┘└───┘          └───┘└───┘└───┘└───┘\n",
       "c: 3/════════════════════════════════════════════════════════════════════════\n",
       "                                                                             "
      ]
     },
     "execution_count": 14,
     "metadata": {},
     "output_type": "execute_result"
    }
   ],
   "source": [
    "# Creating the oracle\n",
    "qc.x(1)\n",
    "qc.x(3)\n",
    "qc.z(3)\n",
    "qc.x(1)\n",
    "qc.x(3)\n",
    "\n",
    "# Applying the Grover operator\n",
    "qc.h(range(8))\n",
    "qc.x(range(8))\n",
    "qc.h(7)\n",
    "qc.mct([0, 1, 2, 3, 4, 5, 6], 7)\n",
    "qc.h(7)\n",
    "qc.x(range(8))\n",
    "qc.h(range(8))\n",
    "\n",
    "# Displaying the quantum circuit\n",
    "qc.draw()\n",
    "\n"
   ]
  },
  {
   "cell_type": "code",
   "execution_count": 20,
   "id": "b93a96c4",
   "metadata": {
    "scrolled": true
   },
   "outputs": [
    {
     "name": "stdout",
     "output_type": "stream",
     "text": [
      "{'010': 1009, '011': 4, '001': 2, '110': 2, '100': 2, '000': 1, '111': 2, '101': 2}\n"
     ]
    }
   ],
   "source": [
    "\n",
    "# Measuring the result\n",
    "qc.measure(range(3), range(3))\n",
    "\n",
    "# Running the simulation\n",
    "backend = Aer.get_backend('qasm_simulator')\n",
    "result = execute(qc, backend=backend, shots=1024).result()\n",
    "counts = result.get_counts()\n",
    "\n",
    "print(counts)"
   ]
  },
  {
   "cell_type": "code",
   "execution_count": null,
   "id": "50de089b",
   "metadata": {},
   "outputs": [],
   "source": []
  }
 ],
 "metadata": {
  "kernelspec": {
   "display_name": "Python 3 (ipykernel)",
   "language": "python",
   "name": "python3"
  },
  "language_info": {
   "codemirror_mode": {
    "name": "ipython",
    "version": 3
   },
   "file_extension": ".py",
   "mimetype": "text/x-python",
   "name": "python",
   "nbconvert_exporter": "python",
   "pygments_lexer": "ipython3",
   "version": "3.10.5"
  }
 },
 "nbformat": 4,
 "nbformat_minor": 5
}
